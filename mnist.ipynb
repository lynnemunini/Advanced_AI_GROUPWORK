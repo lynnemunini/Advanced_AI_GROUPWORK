{
  "cells": [
    {
      "cell_type": "markdown",
      "metadata": {
        "colab_type": "text",
        "id": "view-in-github"
      },
      "source": [
        "<a href=\"https://colab.research.google.com/github/lynnemunini/MNIST-classification/blob/brian/mnist.ipynb\" target=\"_parent\"><img src=\"https://colab.research.google.com/assets/colab-badge.svg\" alt=\"Open In Colab\"/></a>"
      ]
    },
    {
      "cell_type": "code",
      "execution_count": null,
      "metadata": {
        "id": "zalhjmd5SS5H"
      },
      "outputs": [],
      "source": [
        "import tensorflow as tf\n",
        "from matplotlib import pyplot as plt\n",
        "import numpy as np"
      ]
    },
    {
      "cell_type": "code",
      "execution_count": null,
      "metadata": {
        "id": "dGHcmrikTR1D"
      },
      "outputs": [],
      "source": [
        "objects =  tf.keras.datasets.mnist\n",
        "(training_images, training_labels), (test_images, test_labels) = objects.load_data()"
      ]
    },
    {
      "cell_type": "code",
      "execution_count": null,
      "metadata": {
        "colab": {
          "base_uri": "https://localhost:8080/",
          "height": 268
        },
        "id": "9XxOskgWTbWR",
        "outputId": "2ff13751-ce57-4432-b363-6f5a567c48b6"
      },
      "outputs": [],
      "source": [
        "for i in range(9):\n",
        "        # define subplot\n",
        "        plt.subplot(330 + 1 + i)\n",
        "        # plot raw pixel data\n",
        "        plt.imshow(training_images[i])"
      ]
    },
    {
      "cell_type": "code",
      "execution_count": null,
      "metadata": {
        "colab": {
          "base_uri": "https://localhost:8080/"
        },
        "id": "zo6vLEKjTdGN",
        "outputId": "830dcc92-7356-4bbe-9a19-fcf2e05b5735"
      },
      "outputs": [],
      "source": [
        "print(training_images.shape)\n",
        "print(training_images[0])"
      ]
    },
    {
      "cell_type": "code",
      "execution_count": null,
      "metadata": {
        "id": "d3ZqnqIgThIe"
      },
      "outputs": [],
      "source": [
        "training_images  = training_images / 255.0\n",
        "test_images = test_images / 255.0"
      ]
    },
    {
      "cell_type": "code",
      "execution_count": null,
      "metadata": {
        "colab": {
          "base_uri": "https://localhost:8080/",
          "height": 345
        },
        "id": "jrBgINgoThSh",
        "outputId": "5879f738-75af-4570-e150-37d1f2b20a25"
      },
      "outputs": [],
      "source": [
        "model=tf.keras.models.Sequential()\n",
        "model.add(tf.keras.layers.Flatten())\n",
        "model.add(tf.keras.layers.Dense(128,activation=tf.nn.relu))\n",
        "model.add(tf.keras.layers.Dense(128,activation=tf.nn.relu))\n",
        "model.add(tf.keras.layers.Dense(10,activation=tf.nn.softmax))\n",
        "model.compile(optimizer='adam',loss='sparse_categorical_crossentropy',metrics='accuracy')\n",
        "model.fit(training_images,training_labels,epochs=3)\n",
        "model.save('handwritten.model')\n",
        "model = tf.keras.models.load_model('handwritten.model')"
      ]
    },
    {
      "cell_type": "code",
      "execution_count": null,
      "metadata": {
        "id": "JTE2l_Q4ThVO"
      },
      "outputs": [],
      "source": []
    },
    {
      "cell_type": "code",
      "execution_count": null,
      "metadata": {
        "id": "KLZS6ndPThXk"
      },
      "outputs": [],
      "source": []
    },
    {
      "cell_type": "code",
      "execution_count": null,
      "metadata": {
        "id": "Guhs_XUZThaC"
      },
      "outputs": [],
      "source": [
        "print(model.evaluate(test_images,test_labels))\n",
        "#print(model.predict(test_images[0]))"
      ]
    },
    {
      "cell_type": "code",
      "execution_count": null,
      "metadata": {
        "id": "Y3wYEZoiThc8"
      },
      "outputs": [],
      "source": [
        "# #plt.imshow(test_images[3])\n",
        "# prediction=model.predict(test_images)\n",
        "# for i in range(1, 9):\n",
        "#   x = np.argmax(prediction[i])\n",
        "#   if (x == 4):\n",
        "#     print(f\"The {i} image is {x}\")\n",
        "#     plt.imshow(test_images[x])"
      ]
    },
    {
      "cell_type": "code",
      "execution_count": null,
      "metadata": {
        "id": "NS_L_AaKdmU5"
      },
      "outputs": [],
      "source": [
        "# prediction=model.predict(test_images)\n",
        "# for i in range(200):\n",
        "#   x = np.argmax(prediction[i])\n",
        "#   if (x == 6):\n",
        "#     print(f\"The {i} image is {x}\")\n",
        "# plt.imshow(test_images[x])"
      ]
    },
    {
      "cell_type": "code",
      "execution_count": null,
      "metadata": {
        "id": "v34kbG45d96E"
      },
      "outputs": [],
      "source": [
        "# prediction=model.predict(test_images)\n",
        "# for i in range(100):\n",
        "#   x = np.argmax(prediction[i])\n",
        "#   if (x == 1):\n",
        "#     print(f\"The {i } image is {x}\")\n",
        "#     #plt.subplot(330 + 1 + i)\n",
        "#     plt.imshow(test_images[x])"
      ]
    },
    {
      "cell_type": "code",
      "execution_count": 45,
      "metadata": {
        "id": "gZdURLg5rACd"
      },
      "outputs": [
        {
          "ename": "NameError",
          "evalue": "name 'x_test' is not defined",
          "output_type": "error",
          "traceback": [
            "\u001b[0;31m---------------------------------------------------------------------------\u001b[0m",
            "\u001b[0;31mNameError\u001b[0m                                 Traceback (most recent call last)",
            "\u001b[1;32m/home/lynne/Documents/Projects/MNIST-classification/mnist.ipynb Cell 14'\u001b[0m in \u001b[0;36m<cell line: 3>\u001b[0;34m()\u001b[0m\n\u001b[1;32m      <a href='vscode-notebook-cell:/home/lynne/Documents/Projects/MNIST-classification/mnist.ipynb#ch0000013?line=1'>2</a>\u001b[0m n \u001b[39m=\u001b[39m \u001b[39m9\u001b[39m\n\u001b[1;32m      <a href='vscode-notebook-cell:/home/lynne/Documents/Projects/MNIST-classification/mnist.ipynb#ch0000013?line=2'>3</a>\u001b[0m \u001b[39mwhile\u001b[39;00m x \u001b[39m<\u001b[39m n:\n\u001b[0;32m----> <a href='vscode-notebook-cell:/home/lynne/Documents/Projects/MNIST-classification/mnist.ipynb#ch0000013?line=3'>4</a>\u001b[0m     prediction \u001b[39m=\u001b[39m model\u001b[39m.\u001b[39mpredict(x_test)\n\u001b[1;32m      <a href='vscode-notebook-cell:/home/lynne/Documents/Projects/MNIST-classification/mnist.ipynb#ch0000013?line=4'>5</a>\u001b[0m     predict \u001b[39m=\u001b[39m np\u001b[39m.\u001b[39margmax(prediction[x])\n\u001b[1;32m      <a href='vscode-notebook-cell:/home/lynne/Documents/Projects/MNIST-classification/mnist.ipynb#ch0000013?line=5'>6</a>\u001b[0m     plt\u001b[39m.\u001b[39mtitle(\u001b[39mf\u001b[39m\u001b[39m\"\u001b[39m\u001b[39mThis is probably: \u001b[39m\u001b[39m{\u001b[39;00mpredict\u001b[39m}\u001b[39;00m\u001b[39m\"\u001b[39m)\n",
            "\u001b[0;31mNameError\u001b[0m: name 'x_test' is not defined"
          ]
        }
      ],
      "source": [
        "x = 1\n",
        "n = 9\n",
        "while x < n:\n",
        "    prediction = model.predict(training_images)\n",
        "    predict = np.argmax(prediction[x])\n",
        "    plt.title(f\"This is probably: {predict}\")\n",
        "    plt.imshow(training_images[x], cmap=plt.cm.binary)\n",
        "    plt.show()\n",
        "    x += 1\n",
        "# image_number"
      ]
    }
  ],
  "metadata": {
    "colab": {
      "authorship_tag": "ABX9TyNHm2EiCh+FMCwqT64R5OHN",
      "collapsed_sections": [],
      "include_colab_link": true,
      "name": "Untitled5.ipynb",
      "provenance": []
    },
    "interpreter": {
      "hash": "3ac7a2fdb06d4162a87380f35e37aae39b599dff05ec5da7a6065158a051017d"
    },
    "kernelspec": {
      "display_name": "Python 3.8.10 ('env': venv)",
      "language": "python",
      "name": "python3"
    },
    "language_info": {
      "codemirror_mode": {
        "name": "ipython",
        "version": 3
      },
      "file_extension": ".py",
      "mimetype": "text/x-python",
      "name": "python",
      "nbconvert_exporter": "python",
      "pygments_lexer": "ipython3",
      "version": "3.8.10"
    }
  },
  "nbformat": 4,
  "nbformat_minor": 0
}
